{
 "cells": [
  {
   "cell_type": "markdown",
   "metadata": {
    "collapsed": true
   },
   "source": [
    "# Cellar Track LSTM Text Classification\n"
   ]
  },
  {
   "cell_type": "code",
   "execution_count": 2,
   "metadata": {},
   "outputs": [
    {
     "name": "stderr",
     "output_type": "stream",
     "text": [
      "Using TensorFlow backend.\n"
     ]
    }
   ],
   "source": [
    "import numpy as np\n",
    "import pandas as pd\n",
    "import math\n",
    "import matplotlib.pyplot as plt\n",
    "from keras.utils import np_utils\n",
    "from keras.preprocessing.text import Tokenizer\n",
    "from keras.preprocessing.sequence import pad_sequences\n",
    "from keras.layers import Input, Conv1D, Dense, MaxPooling1D, GlobalMaxPooling1D, Embedding, Dropout\n",
    "from keras.models import Model\n",
    "from sklearn.model_selection import train_test_split\n",
    "\n",
    "%matplotlib inline"
   ]
  },
  {
   "cell_type": "markdown",
   "metadata": {},
   "source": [
    "## Data Prep\n",
    "\n",
    "We'll read the Cellar Tracker data directly from Data.World.  This will take a bit to download.  Once it's downloaded, we can do some basic analysis on the dataset to see what we're dealing with."
   ]
  },
  {
   "cell_type": "code",
   "execution_count": 3,
   "metadata": {
    "collapsed": true
   },
   "outputs": [],
   "source": [
    "df = pd.read_csv('https://query.data.world/s/r8VVStpwMgTZlScD_VyeGd6JUEX4fm')"
   ]
  },
  {
   "cell_type": "code",
   "execution_count": 4,
   "metadata": {},
   "outputs": [
    {
     "name": "stdout",
     "output_type": "stream",
     "text": [
      "Reviews with review/points assigned = 773497\n"
     ]
    },
    {
     "data": {
      "image/png": "[encoded data removed]",
      "text/plain": [
       "<matplotlib.figure.Figure at 0x7f6748752240>"
      ]
     },
     "metadata": {},
     "output_type": "display_data"
    }
   ],
   "source": [
    "# Don't use rows where review/points or review/text is not provided\n",
    "scored_df = df[df['review/points'].notnull()]\n",
    "scored_df = scored_df[scored_df['review/text'].notnull()]\n",
    "\n",
    "print('Reviews with review/points assigned = {}'.format(len(scored_df)))\n",
    "\n",
    "plt.hist(scored_df['review/points'].values, bins = 20)\n",
    "plt.title(\"Review Scores Histogram\")\n",
    "plt.xlabel(\"Points\")\n",
    "plt.ylabel(\"Frequency\")\n",
    "plt.show()"
   ]
  },
  {
   "cell_type": "code",
   "execution_count": 6,
   "metadata": {
    "collapsed": true
   },
   "outputs": [],
   "source": [
    "sized = scored_df.groupby('review/points').size()\n",
    "\n",
    "count_dict = sized.to_dict()\n",
    "\n",
    "sized_df = sized.to_frame()\n",
    "#sized_df['review/points-pct'] = sized_df['review/points'].map(lambda s: s / sized.sum())"
   ]
  },
  {
   "cell_type": "code",
   "execution_count": 7,
   "metadata": {
    "collapsed": true
   },
   "outputs": [],
   "source": [
    "def help_determine_buckets():\n",
    "    target = 77000\n",
    "    accrued = 0\n",
    "\n",
    "    bucket = 1\n",
    "    buckets = { bucket: [] }\n",
    "\n",
    "    for points in range(50, 101):     \n",
    "            buckets[bucket].append(points)\n",
    "            accrued += count_dict[points]\n",
    "\n",
    "            if accrued >= target:        \n",
    "                bucket += 1\n",
    "                buckets[bucket] = []\n",
    "                remaining = target\n"
   ]
  },
  {
   "cell_type": "code",
   "execution_count": 9,
   "metadata": {
    "collapsed": true
   },
   "outputs": [],
   "source": [
    "def assign_grade(review_points):\n",
    "    if review_points == 100:\n",
    "        return \"AAA\"\n",
    "    elif review_points == 99:\n",
    "        return \"AA\"\n",
    "    elif review_points == 98:\n",
    "        return \"A\"\n",
    "    elif review_points == 97:\n",
    "        return \"BBB\"\n",
    "    elif review_points == 96:\n",
    "        return \"BB\"\n",
    "    elif review_points == 95:\n",
    "        return \"B\"\n",
    "    elif review_points == 94:\n",
    "        return \"CCC\"\n",
    "    elif review_points == 93:\n",
    "        return \"CC\"\n",
    "    elif review_points == 92:\n",
    "        return \"C\"\n",
    "    elif review_points == 91:\n",
    "        return \"DDD\"    \n",
    "    elif review_points == 90:\n",
    "        return \"DD\"\n",
    "    elif review_points == 89:\n",
    "        return \"D\"\n",
    "    elif review_points == 88:\n",
    "        return \"FFF\"\n",
    "    elif review_points == 87:\n",
    "        return \"FF\"\n",
    "    elif review_points == 86:\n",
    "        return \"F\"\n",
    "    else:\n",
    "        return \"ZZZ\"    "
   ]
  },
  {
   "cell_type": "code",
   "execution_count": 10,
   "metadata": {
    "collapsed": true
   },
   "outputs": [],
   "source": [
    "scored_df['Grade'] = scored_df['review/points'].map(assign_grade)"
   ]
  },
  {
   "cell_type": "code",
   "execution_count": 11,
   "metadata": {
    "collapsed": true
   },
   "outputs": [],
   "source": [
    "X = scored_df['review/text'].values\n",
    "y = scored_df['Grade'].values\n",
    "\n"
   ]
  },
  {
   "cell_type": "code",
   "execution_count": 13,
   "metadata": {},
   "outputs": [
    {
     "name": "stdout",
     "output_type": "stream",
     "text": [
      "There are 152285 words across all reviews\n"
     ]
    }
   ],
   "source": [
    "tokenizer = Tokenizer()\n",
    "tokenizer.fit_on_texts(X)\n",
    "sequences = tokenizer.texts_to_sequences(X)\n",
    "word_index = tokenizer.word_index\n",
    "print ('There are {} words across all reviews'.format(len(word_index)))"
   ]
  },
  {
   "cell_type": "code",
   "execution_count": null,
   "metadata": {},
   "outputs": [],
   "source": [
    "MAX_SEQUENCE_LENGTH = 300\n",
    "EMBEDDING_DIM = 50\n",
    "\n",
    "data = pad_sequences(X, maxlen= MAX_SEQUENCE_LENGTH)\n",
    "labels = np_util.to_categorical(np.asarray(y))\n",
    "print('Shape of data tensor:', data.shape)\n",
    "print('Shape of label tensor:', target.shape)\n",
    "\n",
    "(x_train, x_test, y_train, y_test) = train_test_split(X, y, test_size = .20)"
   ]
  },
  {
   "cell_type": "code",
   "execution_count": null,
   "metadata": {
    "collapsed": true
   },
   "outputs": [],
   "source": []
  }
 ],
 "metadata": {
  "kernelspec": {
   "display_name": "Python 3",
   "language": "python",
   "name": "python3"
  },
  "language_info": {
   "codemirror_mode": {
    "name": "ipython",
    "version": 3
   },
   "file_extension": ".py",
   "mimetype": "text/x-python",
   "name": "python",
   "nbconvert_exporter": "python",
   "pygments_lexer": "ipython3",
   "version": "3.5.2"
  }
 },
 "nbformat": 4,
 "nbformat_minor": 2
}
