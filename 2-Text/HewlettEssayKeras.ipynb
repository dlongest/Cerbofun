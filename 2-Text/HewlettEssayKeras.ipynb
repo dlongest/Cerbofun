{
 "cells": [
  {
   "cell_type": "code",
   "execution_count": 71,
   "metadata": {
    "collapsed": true
   },
   "outputs": [],
   "source": [
    "import pandas as pd\n",
    "import numpy as np\n",
    "from keras.utils import np_utils\n",
    "from keras.preprocessing.text import Tokenizer\n",
    "from keras.preprocessing.sequence import pad_sequences\n",
    "from keras.layers import Input, Conv1D, Dense, MaxPooling1D, GlobalMaxPooling1D, Embedding, Dropout\n",
    "from keras.models import Model"
   ]
  },
  {
   "cell_type": "code",
   "execution_count": 7,
   "metadata": {
    "collapsed": true
   },
   "outputs": [],
   "source": [
    "df = pd.read_csv('hewlett-essay-train.tsv', sep='\\t', encoding='latin-1', index_col=0)"
   ]
  },
  {
   "cell_type": "code",
   "execution_count": 15,
   "metadata": {
    "collapsed": true
   },
   "outputs": [],
   "source": [
    "X = df[df['essay_set'] == 1]['essay']\n",
    "\n",
    "y = df[df['essay_set'] == 1]['domain1_score']"
   ]
  },
  {
   "cell_type": "code",
   "execution_count": 60,
   "metadata": {},
   "outputs": [
    {
     "data": {
      "image/png": "[encoded data removed]",
      "text/plain": [
       "<matplotlib.figure.Figure at 0x7fd18c19dda0>"
      ]
     },
     "metadata": {},
     "output_type": "display_data"
    }
   ],
   "source": [
    "tokenizer = Tokenizer()\n",
    "tokenizer.fit_on_texts(X.values)\n",
    "sequences = tokenizer.texts_to_sequences(X.values)\n",
    "word_index = tokenizer.word_index\n",
    "\n",
    "%matplotlib inline\n",
    "import matplotlib.pyplot as plt\n",
    "\n",
    "plt.hist(list(map(lambda seq: len(seq), sequences)))\n",
    "plt.title(\"Sequence Length Histogram\")\n",
    "plt.xlabel(\"Length\")\n",
    "plt.ylabel(\"Frequency\")\n",
    "plt.show()\n"
   ]
  },
  {
   "cell_type": "code",
   "execution_count": 30,
   "metadata": {},
   "outputs": [
    {
     "name": "stdout",
     "output_type": "stream",
     "text": [
      "Set contains 16257 unique words\n"
     ]
    }
   ],
   "source": [
    "print ('Set contains {} unique words'.format(len(tokenizer.word_index)))"
   ]
  },
  {
   "cell_type": "code",
   "execution_count": null,
   "metadata": {
    "collapsed": true
   },
   "outputs": [],
   "source": [
    "data = pad_sequences(sequences)\n",
    "\n",
    "labels = np_utils.to_categorical(np.asarray(y.values))\n",
    "print('Shape of data tensor:', data.shape)\n",
    "print('Shape of label tensor:', labels.shape)"
   ]
  },
  {
   "cell_type": "code",
   "execution_count": 65,
   "metadata": {},
   "outputs": [],
   "source": [
    "EMBEDDING_DIM = 50\n",
    "MAX_SEQUENCE_LENGTH = 783\n",
    "LABELS_COUNT = 13\n",
    "\n",
    "embedding_matrix = np.zeros((len(word_index) + 1, EMBEDDING_DIM))"
   ]
  },
  {
   "cell_type": "code",
   "execution_count": null,
   "metadata": {
    "collapsed": true
   },
   "outputs": [],
   "source": []
  },
  {
   "cell_type": "code",
   "execution_count": 90,
   "metadata": {
    "scrolled": true
   },
   "outputs": [
    {
     "name": "stdout",
     "output_type": "stream",
     "text": [
      "Train on 1426 samples, validate on 357 samples\n",
      "Epoch 1/100\n",
      "1426/1426 [==============================] - 2s - loss: 2.5649 - acc: 0.3520 - val_loss: 2.5649 - val_acc: 0.3838\n",
      "Epoch 2/100\n",
      "1426/1426 [==============================] - 1s - loss: 2.5649 - acc: 0.3857 - val_loss: 2.5649 - val_acc: 0.3838\n",
      "Epoch 3/100\n",
      "1426/1426 [==============================] - 1s - loss: 2.5649 - acc: 0.3857 - val_loss: 2.5649 - val_acc: 0.3838\n",
      "Epoch 4/100\n",
      "1426/1426 [==============================] - 1s - loss: 2.5649 - acc: 0.3857 - val_loss: 2.5649 - val_acc: 0.3838\n",
      "Epoch 5/100\n",
      "1426/1426 [==============================] - 1s - loss: 2.5649 - acc: 0.3857 - val_loss: 2.5649 - val_acc: 0.3838\n",
      "Epoch 6/100\n",
      "1426/1426 [==============================] - 1s - loss: 2.5649 - acc: 0.3857 - val_loss: 2.5649 - val_acc: 0.3838\n",
      "Epoch 7/100\n",
      "1426/1426 [==============================] - 1s - loss: 2.5649 - acc: 0.3857 - val_loss: 2.5649 - val_acc: 0.3838\n",
      "Epoch 8/100\n",
      "1426/1426 [==============================] - 1s - loss: 2.5649 - acc: 0.3857 - val_loss: 2.5649 - val_acc: 0.3838\n",
      "Epoch 9/100\n",
      "1426/1426 [==============================] - 1s - loss: 2.5649 - acc: 0.3857 - val_loss: 2.5649 - val_acc: 0.3838\n",
      "Epoch 10/100\n",
      "1426/1426 [==============================] - 1s - loss: 2.5649 - acc: 0.3857 - val_loss: 2.5649 - val_acc: 0.3838\n",
      "Epoch 11/100\n",
      "1426/1426 [==============================] - 1s - loss: 2.5649 - acc: 0.3857 - val_loss: 2.5649 - val_acc: 0.3838\n",
      "Epoch 12/100\n",
      "1426/1426 [==============================] - 1s - loss: 2.5649 - acc: 0.3857 - val_loss: 2.5649 - val_acc: 0.3838\n",
      "Epoch 13/100\n",
      "1426/1426 [==============================] - 1s - loss: 2.5649 - acc: 0.3857 - val_loss: 2.5649 - val_acc: 0.3838\n",
      "Epoch 14/100\n",
      "1426/1426 [==============================] - 1s - loss: 2.5649 - acc: 0.3857 - val_loss: 2.5649 - val_acc: 0.3838\n",
      "Epoch 15/100\n",
      "1426/1426 [==============================] - 1s - loss: 2.5649 - acc: 0.3857 - val_loss: 2.5649 - val_acc: 0.3838\n",
      "Epoch 16/100\n",
      "1426/1426 [==============================] - 1s - loss: 2.5649 - acc: 0.3857 - val_loss: 2.5649 - val_acc: 0.3838\n",
      "Epoch 17/100\n",
      "1426/1426 [==============================] - 1s - loss: 2.5649 - acc: 0.3857 - val_loss: 2.5649 - val_acc: 0.3838\n",
      "Epoch 18/100\n",
      "1426/1426 [==============================] - 1s - loss: 2.5649 - acc: 0.3857 - val_loss: 2.5649 - val_acc: 0.3838\n",
      "Epoch 19/100\n",
      "1426/1426 [==============================] - 1s - loss: 2.5649 - acc: 0.3857 - val_loss: 2.5649 - val_acc: 0.3838\n",
      "Epoch 20/100\n",
      "1426/1426 [==============================] - 1s - loss: 2.5649 - acc: 0.3857 - val_loss: 2.5649 - val_acc: 0.3838\n",
      "Epoch 21/100\n",
      "1426/1426 [==============================] - 1s - loss: 2.5649 - acc: 0.3857 - val_loss: 2.5649 - val_acc: 0.3838\n",
      "Epoch 22/100\n",
      "1426/1426 [==============================] - 1s - loss: 2.5649 - acc: 0.3857 - val_loss: 2.5649 - val_acc: 0.3838\n",
      "Epoch 23/100\n",
      "1426/1426 [==============================] - 1s - loss: 2.5649 - acc: 0.3857 - val_loss: 2.5649 - val_acc: 0.3838\n",
      "Epoch 24/100\n",
      "1426/1426 [==============================] - 1s - loss: 2.5649 - acc: 0.3857 - val_loss: 2.5649 - val_acc: 0.3838\n",
      "Epoch 25/100\n",
      "1426/1426 [==============================] - 1s - loss: 2.5649 - acc: 0.3857 - val_loss: 2.5649 - val_acc: 0.3838\n",
      "Epoch 26/100\n",
      "1426/1426 [==============================] - 1s - loss: 2.5649 - acc: 0.3857 - val_loss: 2.5649 - val_acc: 0.3838\n",
      "Epoch 27/100\n",
      "1426/1426 [==============================] - 1s - loss: 2.5649 - acc: 0.3857 - val_loss: 2.5649 - val_acc: 0.3838\n",
      "Epoch 28/100\n",
      "1426/1426 [==============================] - 1s - loss: 2.5649 - acc: 0.3857 - val_loss: 2.5649 - val_acc: 0.3838\n",
      "Epoch 29/100\n",
      "1426/1426 [==============================] - 1s - loss: 2.5649 - acc: 0.3857 - val_loss: 2.5649 - val_acc: 0.3838\n",
      "Epoch 30/100\n",
      "1426/1426 [==============================] - 1s - loss: 2.5649 - acc: 0.3857 - val_loss: 2.5649 - val_acc: 0.3838\n",
      "Epoch 31/100\n",
      "1426/1426 [==============================] - 1s - loss: 2.5649 - acc: 0.3857 - val_loss: 2.5649 - val_acc: 0.3838\n",
      "Epoch 32/100\n",
      "1426/1426 [==============================] - 1s - loss: 2.5649 - acc: 0.3857 - val_loss: 2.5649 - val_acc: 0.3838\n",
      "Epoch 33/100\n",
      "1426/1426 [==============================] - 2s - loss: 2.5649 - acc: 0.3857 - val_loss: 2.5649 - val_acc: 0.3838\n",
      "Epoch 34/100\n",
      "1426/1426 [==============================] - 1s - loss: 2.5649 - acc: 0.3857 - val_loss: 2.5649 - val_acc: 0.3838\n",
      "Epoch 35/100\n",
      "1426/1426 [==============================] - 1s - loss: 2.5649 - acc: 0.3857 - val_loss: 2.5649 - val_acc: 0.3838\n",
      "Epoch 36/100\n",
      "1426/1426 [==============================] - 1s - loss: 2.5649 - acc: 0.3857 - val_loss: 2.5649 - val_acc: 0.3838\n",
      "Epoch 37/100\n",
      "1426/1426 [==============================] - 1s - loss: 2.5649 - acc: 0.3857 - val_loss: 2.5649 - val_acc: 0.3838\n",
      "Epoch 38/100\n",
      "1426/1426 [==============================] - 1s - loss: 2.5649 - acc: 0.3857 - val_loss: 2.5649 - val_acc: 0.3838\n",
      "Epoch 39/100\n",
      "1426/1426 [==============================] - 1s - loss: 2.5649 - acc: 0.3857 - val_loss: 2.5649 - val_acc: 0.3838\n",
      "Epoch 40/100\n",
      "1426/1426 [==============================] - 1s - loss: 2.5649 - acc: 0.3857 - val_loss: 2.5649 - val_acc: 0.3838\n",
      "Epoch 41/100\n",
      "1426/1426 [==============================] - 1s - loss: 2.5649 - acc: 0.3857 - val_loss: 2.5649 - val_acc: 0.3838\n",
      "Epoch 42/100\n",
      "1426/1426 [==============================] - 1s - loss: 2.5649 - acc: 0.3857 - val_loss: 2.5649 - val_acc: 0.3838\n",
      "Epoch 43/100\n",
      "1426/1426 [==============================] - 1s - loss: 2.5649 - acc: 0.3857 - val_loss: 2.5649 - val_acc: 0.3838\n",
      "Epoch 44/100\n",
      "1426/1426 [==============================] - 1s - loss: 2.5649 - acc: 0.3857 - val_loss: 2.5649 - val_acc: 0.3838\n",
      "Epoch 45/100\n",
      "1426/1426 [==============================] - 1s - loss: 2.5649 - acc: 0.3857 - val_loss: 2.5649 - val_acc: 0.3838\n",
      "Epoch 46/100\n",
      "1426/1426 [==============================] - 1s - loss: 2.5649 - acc: 0.3857 - val_loss: 2.5649 - val_acc: 0.3838\n",
      "Epoch 47/100\n",
      "1426/1426 [==============================] - 1s - loss: 2.5649 - acc: 0.3857 - val_loss: 2.5649 - val_acc: 0.3838\n",
      "Epoch 48/100\n",
      "1426/1426 [==============================] - 1s - loss: 2.5649 - acc: 0.3857 - val_loss: 2.5649 - val_acc: 0.3838\n",
      "Epoch 49/100\n",
      "1426/1426 [==============================] - 1s - loss: 2.5649 - acc: 0.3857 - val_loss: 2.5649 - val_acc: 0.3838\n",
      "Epoch 50/100\n",
      "1426/1426 [==============================] - 1s - loss: 2.5649 - acc: 0.3857 - val_loss: 2.5649 - val_acc: 0.3838\n",
      "Epoch 51/100\n",
      "1426/1426 [==============================] - 1s - loss: 2.5649 - acc: 0.3857 - val_loss: 2.5649 - val_acc: 0.3838\n",
      "Epoch 52/100\n",
      "1426/1426 [==============================] - 1s - loss: 2.5649 - acc: 0.3857 - val_loss: 2.5649 - val_acc: 0.3838\n",
      "Epoch 53/100\n",
      "1426/1426 [==============================] - 1s - loss: 2.5649 - acc: 0.3857 - val_loss: 2.5649 - val_acc: 0.3838\n",
      "Epoch 54/100\n",
      "1426/1426 [==============================] - 1s - loss: 2.5649 - acc: 0.3857 - val_loss: 2.5649 - val_acc: 0.3838\n",
      "Epoch 55/100\n",
      "1426/1426 [==============================] - 1s - loss: 2.5649 - acc: 0.3857 - val_loss: 2.5648 - val_acc: 0.3838\n",
      "Epoch 56/100\n",
      "1426/1426 [==============================] - 1s - loss: 2.5648 - acc: 0.3857 - val_loss: 2.5648 - val_acc: 0.3838\n",
      "Epoch 57/100\n",
      "1426/1426 [==============================] - 1s - loss: 2.5648 - acc: 0.3857 - val_loss: 2.5648 - val_acc: 0.3838\n",
      "Epoch 58/100\n",
      "1426/1426 [==============================] - 1s - loss: 2.5648 - acc: 0.3857 - val_loss: 2.5648 - val_acc: 0.3838\n",
      "Epoch 59/100\n",
      "1426/1426 [==============================] - 1s - loss: 2.5648 - acc: 0.3857 - val_loss: 2.5648 - val_acc: 0.3838\n",
      "Epoch 60/100\n",
      "1426/1426 [==============================] - 1s - loss: 2.5648 - acc: 0.3857 - val_loss: 2.5648 - val_acc: 0.3838\n",
      "Epoch 61/100\n",
      "1426/1426 [==============================] - 1s - loss: 2.5648 - acc: 0.3857 - val_loss: 2.5648 - val_acc: 0.3838\n",
      "Epoch 62/100\n",
      "1426/1426 [==============================] - 1s - loss: 2.5648 - acc: 0.3857 - val_loss: 2.5648 - val_acc: 0.3838\n",
      "Epoch 63/100\n",
      "1426/1426 [==============================] - 1s - loss: 2.5648 - acc: 0.3857 - val_loss: 2.5648 - val_acc: 0.3838\n",
      "Epoch 64/100\n",
      "1426/1426 [==============================] - 1s - loss: 2.5648 - acc: 0.3857 - val_loss: 2.5648 - val_acc: 0.3838\n",
      "Epoch 65/100\n"
     ]
    },
    {
     "name": "stdout",
     "output_type": "stream",
     "text": [
      "1426/1426 [==============================] - 1s - loss: 2.5648 - acc: 0.3857 - val_loss: 2.5648 - val_acc: 0.3838\n",
      "Epoch 66/100\n",
      "1426/1426 [==============================] - 1s - loss: 2.5648 - acc: 0.3857 - val_loss: 2.5648 - val_acc: 0.3838\n",
      "Epoch 67/100\n",
      "1426/1426 [==============================] - 1s - loss: 2.5648 - acc: 0.3857 - val_loss: 2.5648 - val_acc: 0.3838\n",
      "Epoch 68/100\n",
      "1426/1426 [==============================] - 1s - loss: 2.5648 - acc: 0.3857 - val_loss: 2.5648 - val_acc: 0.3838\n",
      "Epoch 69/100\n",
      "1426/1426 [==============================] - 1s - loss: 2.5648 - acc: 0.3857 - val_loss: 2.5648 - val_acc: 0.3838\n",
      "Epoch 70/100\n",
      "1426/1426 [==============================] - 1s - loss: 2.5648 - acc: 0.3857 - val_loss: 2.5648 - val_acc: 0.3838\n",
      "Epoch 71/100\n",
      "1426/1426 [==============================] - 1s - loss: 2.5648 - acc: 0.3857 - val_loss: 2.5648 - val_acc: 0.3838\n",
      "Epoch 72/100\n",
      "1426/1426 [==============================] - 1s - loss: 2.5648 - acc: 0.3857 - val_loss: 2.5648 - val_acc: 0.3838\n",
      "Epoch 73/100\n",
      "1426/1426 [==============================] - 1s - loss: 2.5648 - acc: 0.3857 - val_loss: 2.5648 - val_acc: 0.3838\n",
      "Epoch 74/100\n",
      "1426/1426 [==============================] - 1s - loss: 2.5648 - acc: 0.3857 - val_loss: 2.5648 - val_acc: 0.3838\n",
      "Epoch 75/100\n",
      "1426/1426 [==============================] - 1s - loss: 2.5648 - acc: 0.3857 - val_loss: 2.5648 - val_acc: 0.3838\n",
      "Epoch 76/100\n",
      "1426/1426 [==============================] - 1s - loss: 2.5648 - acc: 0.3857 - val_loss: 2.5648 - val_acc: 0.3838\n",
      "Epoch 77/100\n",
      "1426/1426 [==============================] - 1s - loss: 2.5648 - acc: 0.3857 - val_loss: 2.5648 - val_acc: 0.3838\n",
      "Epoch 78/100\n",
      "1426/1426 [==============================] - 1s - loss: 2.5648 - acc: 0.3857 - val_loss: 2.5648 - val_acc: 0.3838\n",
      "Epoch 79/100\n",
      "1426/1426 [==============================] - 1s - loss: 2.5648 - acc: 0.3857 - val_loss: 2.5648 - val_acc: 0.3838\n",
      "Epoch 80/100\n",
      "1426/1426 [==============================] - 1s - loss: 2.5648 - acc: 0.3857 - val_loss: 2.5648 - val_acc: 0.3838\n",
      "Epoch 81/100\n",
      "1426/1426 [==============================] - 1s - loss: 2.5648 - acc: 0.3857 - val_loss: 2.5648 - val_acc: 0.3838\n",
      "Epoch 82/100\n",
      "1426/1426 [==============================] - 1s - loss: 2.5648 - acc: 0.3857 - val_loss: 2.5648 - val_acc: 0.3838\n",
      "Epoch 83/100\n",
      "1426/1426 [==============================] - 1s - loss: 2.5648 - acc: 0.3857 - val_loss: 2.5648 - val_acc: 0.3838\n",
      "Epoch 84/100\n",
      "1426/1426 [==============================] - 1s - loss: 2.5648 - acc: 0.3857 - val_loss: 2.5648 - val_acc: 0.3838\n",
      "Epoch 85/100\n",
      "1426/1426 [==============================] - 1s - loss: 2.5648 - acc: 0.3857 - val_loss: 2.5648 - val_acc: 0.3838\n",
      "Epoch 86/100\n",
      "1426/1426 [==============================] - 1s - loss: 2.5648 - acc: 0.3857 - val_loss: 2.5648 - val_acc: 0.3838\n",
      "Epoch 87/100\n",
      "1426/1426 [==============================] - 1s - loss: 2.5648 - acc: 0.3857 - val_loss: 2.5648 - val_acc: 0.3838\n",
      "Epoch 88/100\n",
      "1426/1426 [==============================] - 1s - loss: 2.5648 - acc: 0.3857 - val_loss: 2.5648 - val_acc: 0.3838\n",
      "Epoch 89/100\n",
      "1426/1426 [==============================] - 1s - loss: 2.5648 - acc: 0.3857 - val_loss: 2.5648 - val_acc: 0.3838\n",
      "Epoch 90/100\n",
      "1426/1426 [==============================] - 1s - loss: 2.5648 - acc: 0.3857 - val_loss: 2.5648 - val_acc: 0.3838\n",
      "Epoch 91/100\n",
      "1426/1426 [==============================] - 1s - loss: 2.5648 - acc: 0.3857 - val_loss: 2.5648 - val_acc: 0.3838\n",
      "Epoch 92/100\n",
      "1426/1426 [==============================] - 1s - loss: 2.5648 - acc: 0.3857 - val_loss: 2.5648 - val_acc: 0.3838\n",
      "Epoch 93/100\n",
      "1426/1426 [==============================] - 1s - loss: 2.5648 - acc: 0.3857 - val_loss: 2.5648 - val_acc: 0.3838\n",
      "Epoch 94/100\n",
      "1426/1426 [==============================] - 1s - loss: 2.5648 - acc: 0.3857 - val_loss: 2.5648 - val_acc: 0.3838\n",
      "Epoch 95/100\n",
      "1426/1426 [==============================] - 1s - loss: 2.5648 - acc: 0.3857 - val_loss: 2.5648 - val_acc: 0.3838\n",
      "Epoch 96/100\n",
      "1426/1426 [==============================] - 1s - loss: 2.5648 - acc: 0.3857 - val_loss: 2.5648 - val_acc: 0.3838\n",
      "Epoch 97/100\n",
      "1426/1426 [==============================] - 1s - loss: 2.5648 - acc: 0.3857 - val_loss: 2.5648 - val_acc: 0.3838\n",
      "Epoch 98/100\n",
      "1426/1426 [==============================] - 1s - loss: 2.5648 - acc: 0.3857 - val_loss: 2.5648 - val_acc: 0.3838\n",
      "Epoch 99/100\n",
      "1426/1426 [==============================] - 1s - loss: 2.5648 - acc: 0.3857 - val_loss: 2.5648 - val_acc: 0.3838\n",
      "Epoch 100/100\n",
      "1426/1426 [==============================] - 1s - loss: 2.5648 - acc: 0.3857 - val_loss: 2.5648 - val_acc: 0.3838\n",
      "dict_keys(['loss', 'val_acc', 'val_loss', 'acc'])\n"
     ]
    },
    {
     "data": {
      "image/png": "[encoded data removed]",
      "text/plain": [
       "<matplotlib.figure.Figure at 0x7fd13345ceb8>"
      ]
     },
     "metadata": {},
     "output_type": "display_data"
    },
    {
     "data": {
      "image/png": "[encoded data removed]",
      "text/plain": [
       "<matplotlib.figure.Figure at 0x7fd1333ad978>"
      ]
     },
     "metadata": {},
     "output_type": "display_data"
    }
   ],
   "source": [
    "embedding_layer = Embedding(len(word_index) + 1,\n",
    "                            EMBEDDING_DIM,\n",
    "                            weights=[embedding_matrix],\n",
    "                            embeddings_initializer = 'glorot_uniform', # not using pre-trained embeddings\n",
    "                            input_length=MAX_SEQUENCE_LENGTH,\n",
    "                            trainable=True)\n",
    "\n",
    "sequence_input = Input(shape=(MAX_SEQUENCE_LENGTH,), dtype='int32')\n",
    "embedded_sequences = embedding_layer(sequence_input)\n",
    "x = Conv1D(32, 3, activation='relu')(embedded_sequences)\n",
    "x = MaxPooling1D(3)(x)\n",
    "x = Dropout(.5)(x)\n",
    "x = Conv1D(32, 5, activation='relu')(x)\n",
    "x = MaxPooling1D(3)(x)\n",
    "x = Dropout(.5)(x)\n",
    "x = Conv1D(32, 3, activation='relu')(x)\n",
    "x = GlobalMaxPooling1D()(x)  # global max pooling\n",
    "x = Dropout(.5)(x)\n",
    "#x = Flatten()(x)\n",
    "x = Dense(128, activation='relu')(x)\n",
    "preds = Dense(LABELS_COUNT, activation='softmax')(x)\n",
    "\n",
    "\n",
    "model = Model(sequence_input, preds)\n",
    "\n",
    "from keras import optimizers\n",
    "\n",
    "opt = optimizers.SGD(lr = .000001)\n",
    "\n",
    "model.compile(loss='categorical_crossentropy',\n",
    "              optimizer=opt,\n",
    "              metrics=['acc'])\n",
    "\n",
    "# happy learning!\n",
    "history = model.fit(data, labels, validation_split = .2, epochs=100, batch_size=128)\n",
    "\n",
    "print(history.history.keys())\n",
    "# summarize history for accuracy\n",
    "plt.plot(history.history['acc'])\n",
    "plt.plot(history.history['val_acc'])\n",
    "plt.title('model accuracy')\n",
    "plt.ylabel('accuracy')\n",
    "plt.xlabel('epoch')\n",
    "plt.legend(['train', 'test'], loc='upper left')\n",
    "plt.show()\n",
    "# summarize history for loss\n",
    "plt.plot(history.history['loss'])\n",
    "plt.plot(history.history['val_loss'])\n",
    "plt.title('model loss')\n",
    "plt.ylabel('loss')\n",
    "plt.xlabel('epoch')\n",
    "plt.legend(['train', 'test'], loc='upper left')\n",
    "plt.show()"
   ]
  },
  {
   "cell_type": "code",
   "execution_count": null,
   "metadata": {
    "collapsed": true
   },
   "outputs": [],
   "source": []
  }
 ],
 "metadata": {
  "kernelspec": {
   "display_name": "Python 3",
   "language": "python",
   "name": "python3"
  },
  "language_info": {
   "codemirror_mode": {
    "name": "ipython",
    "version": 3
   },
   "file_extension": ".py",
   "mimetype": "text/x-python",
   "name": "python",
   "nbconvert_exporter": "python",
   "pygments_lexer": "ipython3",
   "version": "3.5.2"
  }
 },
 "nbformat": 4,
 "nbformat_minor": 2
}
