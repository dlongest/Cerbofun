{
 "cells": [
  {
   "cell_type": "markdown",
   "metadata": {
    "collapsed": true
   },
   "source": [
    "# Cellar Tracker Text Classification\n"
   ]
  },
  {
   "cell_type": "code",
   "execution_count": 47,
   "metadata": {
    "collapsed": true
   },
   "outputs": [],
   "source": [
    "import numpy as np\n",
    "import pandas as pd\n",
    "import math\n",
    "import matplotlib.pyplot as plt\n",
    "from keras.utils import np_utils\n",
    "from keras.preprocessing.text import Tokenizer\n",
    "from keras.preprocessing.sequence import pad_sequences\n",
    "from keras.layers import Input, Conv1D, Dense, MaxPooling1D, GlobalMaxPooling1D, Embedding, Dropout\n",
    "from keras.models import Model\n",
    "\n",
    "%matplotlib inline"
   ]
  },
  {
   "cell_type": "markdown",
   "metadata": {},
   "source": [
    "## Data Prep\n",
    "\n",
    "We'll read the Cellar Tracker data directly from Data.World.  This will take a bit to download.  Once it's downloaded, we can do some basic analysis on the dataset to see what we're dealing with."
   ]
  },
  {
   "cell_type": "code",
   "execution_count": 2,
   "metadata": {
    "collapsed": true
   },
   "outputs": [],
   "source": [
    "df = pd.read_csv('https://query.data.world/s/r8VVStpwMgTZlScD_VyeGd6JUEX4fm')"
   ]
  },
  {
   "cell_type": "code",
   "execution_count": 35,
   "metadata": {},
   "outputs": [
    {
     "name": "stdout",
     "output_type": "stream",
     "text": [
      "Reviews with review/points assigned = 773497\n"
     ]
    },
    {
     "data": {
      "image/png": "[encoded data removed]",
      "text/plain": [
       "<matplotlib.figure.Figure at 0x7f166a08f550>"
      ]
     },
     "metadata": {},
     "output_type": "display_data"
    }
   ],
   "source": [
    "# Don't use rows where review/points or review/text is not provided\n",
    "scored_df = df[df['review/points'].notnull()]\n",
    "scored_df = scored_df[scored_df['review/text'].notnull()]\n",
    "\n",
    "print('Reviews with review/points assigned = {}'.format(len(scored_df)))\n",
    "\n",
    "plt.hist(scored_df['review/points'].values, bins = 20)\n",
    "plt.title(\"Review Scores Histogram\")\n",
    "plt.xlabel(\"Points\")\n",
    "plt.ylabel(\"Frequency\")\n",
    "plt.show()\n"
   ]
  },
  {
   "cell_type": "markdown",
   "metadata": {},
   "source": [
    "## Learning\n",
    "\n",
    "We're going to build a text learner that will take the review text and use it to predict a continuously-valued review score.  This dataset has other attributes that may be of use for such a task and we're not going to use those just to focus in on text classification.  Further, it may make sense to treat this problem as classification and bucket the review scores into categories (i.e. 98-100 = \"AAA\", 95-97 = \"AA\").  We may come back to considering that but initially we'll just look at it as regression.  "
   ]
  },
  {
   "cell_type": "code",
   "execution_count": 36,
   "metadata": {
    "collapsed": true
   },
   "outputs": [],
   "source": [
    "X = scored_df['review/text'].values\n",
    "y = list(map(lambda v: float(v), scored_df['review/points'].values))"
   ]
  },
  {
   "cell_type": "code",
   "execution_count": 34,
   "metadata": {},
   "outputs": [
    {
     "data": {
      "text/html": [
       "<div>\n",
       "<table border=\"1\" class=\"dataframe\">\n",
       "  <thead>\n",
       "    <tr style=\"text-align: right;\">\n",
       "      <th></th>\n",
       "      <th>chunk_id</th>\n",
       "      <th>review/points</th>\n",
       "      <th>review/text</th>\n",
       "      <th>review/time</th>\n",
       "      <th>review/userId</th>\n",
       "      <th>review/userName</th>\n",
       "      <th>wine/name</th>\n",
       "      <th>wine/variant</th>\n",
       "      <th>wine/wineId</th>\n",
       "      <th>wine/year</th>\n",
       "    </tr>\n",
       "  </thead>\n",
       "  <tbody>\n",
       "    <tr>\n",
       "      <th>341097</th>\n",
       "      <td>1098</td>\n",
       "      <td>90.0</td>\n",
       "      <td>NaN</td>\n",
       "      <td>1314403200</td>\n",
       "      <td>136709</td>\n",
       "      <td>mrieussec</td>\n",
       "      <td>2007 Wyndham Estate Cabernet Sauvignon Bin 444</td>\n",
       "      <td>Cabernet Sauvignon</td>\n",
       "      <td>794158</td>\n",
       "      <td>2007.0</td>\n",
       "    </tr>\n",
       "    <tr>\n",
       "      <th>556564</th>\n",
       "      <td>6565</td>\n",
       "      <td>87.0</td>\n",
       "      <td>NaN</td>\n",
       "      <td>1163635200</td>\n",
       "      <td>12385</td>\n",
       "      <td>fmarcoux</td>\n",
       "      <td>2003 Alcione Puglia IGT</td>\n",
       "      <td>Aglianico</td>\n",
       "      <td>165541</td>\n",
       "      <td>2003.0</td>\n",
       "    </tr>\n",
       "    <tr>\n",
       "      <th>556570</th>\n",
       "      <td>6571</td>\n",
       "      <td>89.0</td>\n",
       "      <td>NaN</td>\n",
       "      <td>1160352000</td>\n",
       "      <td>12385</td>\n",
       "      <td>fmarcoux</td>\n",
       "      <td>2000 Beckmen Vineyards Syrah Estate Santa Ynez...</td>\n",
       "      <td>Syrah</td>\n",
       "      <td>230842</td>\n",
       "      <td>2000.0</td>\n",
       "    </tr>\n",
       "    <tr>\n",
       "      <th>556571</th>\n",
       "      <td>6572</td>\n",
       "      <td>89.0</td>\n",
       "      <td>NaN</td>\n",
       "      <td>1162944000</td>\n",
       "      <td>12385</td>\n",
       "      <td>fmarcoux</td>\n",
       "      <td>2004 Domaine de Colette R&amp;#233;gni&amp;#233;</td>\n",
       "      <td>Gamay</td>\n",
       "      <td>208975</td>\n",
       "      <td>2004.0</td>\n",
       "    </tr>\n",
       "  </tbody>\n",
       "</table>\n",
       "</div>"
      ],
      "text/plain": [
       "        chunk_id  review/points review/text  review/time  review/userId  \\\n",
       "341097      1098           90.0         NaN   1314403200         136709   \n",
       "556564      6565           87.0         NaN   1163635200          12385   \n",
       "556570      6571           89.0         NaN   1160352000          12385   \n",
       "556571      6572           89.0         NaN   1162944000          12385   \n",
       "\n",
       "       review/userName                                          wine/name  \\\n",
       "341097       mrieussec     2007 Wyndham Estate Cabernet Sauvignon Bin 444   \n",
       "556564        fmarcoux                            2003 Alcione Puglia IGT   \n",
       "556570        fmarcoux  2000 Beckmen Vineyards Syrah Estate Santa Ynez...   \n",
       "556571        fmarcoux           2004 Domaine de Colette R&#233;gni&#233;   \n",
       "\n",
       "              wine/variant  wine/wineId  wine/year  \n",
       "341097  Cabernet Sauvignon       794158     2007.0  \n",
       "556564           Aglianico       165541     2003.0  \n",
       "556570               Syrah       230842     2000.0  \n",
       "556571               Gamay       208975     2004.0  "
      ]
     },
     "execution_count": 34,
     "metadata": {},
     "output_type": "execute_result"
    }
   ],
   "source": []
  },
  {
   "cell_type": "code",
   "execution_count": 37,
   "metadata": {
    "collapsed": true
   },
   "outputs": [],
   "source": [
    "tokenizer = Tokenizer()\n",
    "tokenizer.fit_on_texts(X)\n",
    "sequences = tokenizer.texts_to_sequences(X)\n",
    "word_index = tokenizer.word_index"
   ]
  },
  {
   "cell_type": "code",
   "execution_count": 39,
   "metadata": {},
   "outputs": [
    {
     "name": "stdout",
     "output_type": "stream",
     "text": [
      "There are 152285 words across all reviews\n"
     ]
    }
   ],
   "source": [
    "print ('There are {} words across all reviews'.format(len(word_index)))"
   ]
  },
  {
   "cell_type": "code",
   "execution_count": 43,
   "metadata": {},
   "outputs": [
    {
     "data": {
      "image/png": "[encoded data removed]",
      "text/plain": [
       "<matplotlib.figure.Figure at 0x7f16cf54dc18>"
      ]
     },
     "metadata": {},
     "output_type": "display_data"
    }
   ],
   "source": [
    "plt.hist(list(map(lambda seq: len(seq), sequences)), bins=20)\n",
    "plt.title(\"Review Length Histogram\")\n",
    "plt.xlabel(\"Length\")\n",
    "plt.ylabel(\"Frequency\")\n",
    "plt.show()"
   ]
  },
  {
   "cell_type": "code",
   "execution_count": 44,
   "metadata": {},
   "outputs": [
    {
     "data": {
      "text/plain": [
       "[1093, 922, 914, 892, 858]"
      ]
     },
     "execution_count": 44,
     "metadata": {},
     "output_type": "execute_result"
    }
   ],
   "source": []
  },
  {
   "cell_type": "code",
   "execution_count": 45,
   "metadata": {
    "collapsed": true
   },
   "outputs": [],
   "source": [
    "MAX_SEQUENCE_LENGTH = 300\n",
    "EMBEDDING_DIM = 50"
   ]
  },
  {
   "cell_type": "code",
   "execution_count": null,
   "metadata": {
    "collapsed": true
   },
   "outputs": [],
   "source": [
    "data = pad_sequences(sequences, maxlen= MAX_SEQUENCE_LENGTH)"
   ]
  },
  {
   "cell_type": "code",
   "execution_count": 52,
   "metadata": {},
   "outputs": [
    {
     "name": "stdout",
     "output_type": "stream",
     "text": [
      "Shape of data tensor: (773497, 300)\n",
      "Shape of label tensor: (773497,)\n"
     ]
    }
   ],
   "source": [
    "target = np.asarray(y)\n",
    "print('Shape of data tensor:', data.shape)\n",
    "print('Shape of label tensor:', target.shape)"
   ]
  },
  {
   "cell_type": "code",
   "execution_count": null,
   "metadata": {},
   "outputs": [
    {
     "name": "stdout",
     "output_type": "stream",
     "text": [
      "_________________________________________________________________\n",
      "Layer (type)                 Output Shape              Param #   \n",
      "=================================================================\n",
      "input_4 (InputLayer)         (None, 300)               0         \n",
      "_________________________________________________________________\n",
      "embedding_4 (Embedding)      (None, 300, 50)           7614300   \n",
      "_________________________________________________________________\n",
      "conv1d_10 (Conv1D)           (None, 298, 32)           4832      \n",
      "_________________________________________________________________\n",
      "max_pooling1d_7 (MaxPooling1 (None, 99, 32)            0         \n",
      "_________________________________________________________________\n",
      "conv1d_11 (Conv1D)           (None, 97, 32)            3104      \n",
      "_________________________________________________________________\n",
      "max_pooling1d_8 (MaxPooling1 (None, 32, 32)            0         \n",
      "_________________________________________________________________\n",
      "conv1d_12 (Conv1D)           (None, 30, 32)            3104      \n",
      "_________________________________________________________________\n",
      "global_max_pooling1d_4 (Glob (None, 32)                0         \n",
      "_________________________________________________________________\n",
      "dense_7 (Dense)              (None, 128)               4224      \n",
      "_________________________________________________________________\n",
      "dense_8 (Dense)              (None, 1)                 129       \n",
      "=================================================================\n",
      "Total params: 7,629,693\n",
      "Trainable params: 7,629,693\n",
      "Non-trainable params: 0\n",
      "_________________________________________________________________\n",
      "Train on 618797 samples, validate on 154700 samples\n",
      "Epoch 1/20\n",
      "445056/618797 [====================>.........] - ETA: 178s - loss: 73.8501"
     ]
    }
   ],
   "source": [
    "embedding_matrix = np.zeros((len(word_index) + 1, EMBEDDING_DIM))\n",
    "\n",
    "embedding_layer = Embedding(len(word_index) + 1,\n",
    "                            EMBEDDING_DIM,\n",
    "                            weights=[embedding_matrix],\n",
    "                            embeddings_initializer = 'glorot_uniform', # not using pre-trained embeddings\n",
    "                            input_length=MAX_SEQUENCE_LENGTH,\n",
    "                            trainable=True)\n",
    "\n",
    "sequence_input = Input(shape=(MAX_SEQUENCE_LENGTH,), dtype='int32')\n",
    "embedded_sequences = embedding_layer(sequence_input)\n",
    "x = Conv1D(32, 3, activation='relu')(embedded_sequences)\n",
    "x = MaxPooling1D(3)(x)\n",
    "#x = Dropout(.5)(x)\n",
    "x = Conv1D(32, 3, activation='relu')(x)\n",
    "x = MaxPooling1D(3)(x)\n",
    "#x = Dropout(.5)(x)\n",
    "x = Conv1D(32, 3, activation='relu')(x)\n",
    "x = GlobalMaxPooling1D()(x)  # global max pooling\n",
    "#x = Dropout(.5)(x)\n",
    "\n",
    "x = Dense(128, activation='relu')(x)\n",
    "preds = Dense(1)(x) # no activation so that it outputs the target value directly\n",
    "\n",
    "model = Model(sequence_input, preds)\n",
    "\n",
    "model.compile(loss='mse', optimizer='sgd')\n",
    "\n",
    "model.summary()\n",
    "\n",
    "# happy learning!\n",
    "history = model.fit(data, target, validation_split = .2, epochs=20, batch_size=128)\n",
    "\n",
    "\n"
   ]
  },
  {
   "cell_type": "code",
   "execution_count": null,
   "metadata": {
    "collapsed": true
   },
   "outputs": [],
   "source": []
  }
 ],
 "metadata": {
  "kernelspec": {
   "display_name": "Python 3",
   "language": "python",
   "name": "python3"
  },
  "language_info": {
   "codemirror_mode": {
    "name": "ipython",
    "version": 3
   },
   "file_extension": ".py",
   "mimetype": "text/x-python",
   "name": "python",
   "nbconvert_exporter": "python",
   "pygments_lexer": "ipython3",
   "version": "3.6.2"
  }
 },
 "nbformat": 4,
 "nbformat_minor": 2
}
