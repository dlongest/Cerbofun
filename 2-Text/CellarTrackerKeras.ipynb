{
 "cells": [
  {
   "cell_type": "markdown",
   "metadata": {
    "collapsed": true
   },
   "source": [
    "# Cellar Tracker Text Classification\n"
   ]
  },
  {
   "cell_type": "code",
<<<<<<< HEAD
   "execution_count": 47,
   "metadata": {
    "collapsed": true
   },
   "outputs": [],
=======
   "execution_count": 15,
   "metadata": {},
   "outputs": [
    {
     "name": "stdout",
     "output_type": "stream",
     "text": [
      "Available devices: [name: \"/cpu:0\"\n",
      "device_type: \"CPU\"\n",
      "memory_limit: 268435456\n",
      "locality {\n",
      "}\n",
      "incarnation: 15094043642852484022\n",
      "]\n"
     ]
    }
   ],
>>>>>>> 6c0e2dd99277c98ec21b9b1b81a497d80a012732
   "source": [
    "import numpy as np\n",
    "import pandas as pd\n",
    "import math\n",
    "import matplotlib.pyplot as plt\n",
    "from keras.utils import np_utils\n",
    "from keras.preprocessing.text import Tokenizer\n",
    "from keras.preprocessing.sequence import pad_sequences\n",
    "from keras.layers import Input, Conv1D, Dense, MaxPooling1D, GlobalMaxPooling1D, Embedding, Dropout\n",
    "from keras.models import Model\n",
    "from keras.callbacks import ModelCheckpoint\n",
    "from sklearn.model_selection import train_test_split\n",
    "from tensorflow.python.client import device_lib\n",
    "print('Available devices: {}'.format(device_lib.list_local_devices()))\n",
    "\n",
    "%matplotlib inline"
   ]
  },
  {
   "cell_type": "markdown",
   "metadata": {},
   "source": [
    "## Data Prep\n",
    "\n",
    "We'll read the Cellar Tracker data directly from Data.World.  This will take a bit to download.  Once it's downloaded, we can do some basic analysis on the dataset to see what we're dealing with."
   ]
  },
  {
   "cell_type": "code",
   "execution_count": 3,
   "metadata": {
    "collapsed": true
   },
   "outputs": [],
   "source": [
    "df = pd.read_csv('https://query.data.world/s/r8VVStpwMgTZlScD_VyeGd6JUEX4fm')"
   ]
  },
  {
   "cell_type": "code",
<<<<<<< HEAD
   "execution_count": null,
   "metadata": {},
   "outputs": [],
=======
   "execution_count": 4,
   "metadata": {},
   "outputs": [
    {
     "name": "stdout",
     "output_type": "stream",
     "text": [
      "Reviews with review/points assigned = 773497\n"
     ]
    },
    {
     "data": {
      "image/png": "iVBORw0KGgoAAAANSUhEUgAAAZsAAAEWCAYAAACwtjr+AAAABHNCSVQICAgIfAhkiAAAAAlwSFlz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\nUotNvspy9zYAAAAASUVORK5CYII=\n",
      "text/plain": [
       "<matplotlib.figure.Figure at 0x7f74a289ef60>"
      ]
     },
     "metadata": {},
     "output_type": "display_data"
    }
   ],
>>>>>>> 6c0e2dd99277c98ec21b9b1b81a497d80a012732
   "source": [
    "# Don't use rows where review/points or review/text is not provided\n",
    "scored_df = df[df['review/points'].notnull()]\n",
    "scored_df = scored_df[scored_df['review/text'].notnull()]\n",
    "\n",
    "print('Reviews with review/points assigned = {}'.format(len(scored_df)))\n",
    "\n",
    "plt.hist(scored_df['review/points'].values, bins = 20)\n",
    "plt.title(\"Review Scores Histogram\")\n",
    "plt.xlabel(\"Points\")\n",
    "plt.ylabel(\"Frequency\")\n",
    "plt.show()\n"
   ]
  },
  {
   "cell_type": "markdown",
   "metadata": {},
   "source": [
    "## Learning\n",
    "\n",
    "We're going to build a text learner that will take the review text and use it to predict a continuously-valued review score.  This dataset has other attributes that may be of use for such a task and we're not going to use those just to focus in on text classification.  Further, it may make sense to treat this problem as classification and bucket the review scores into categories (i.e. 98-100 = \"AAA\", 95-97 = \"AA\").  We may come back to considering that but initially we'll just look at it as regression.  "
   ]
  },
  {
   "cell_type": "code",
<<<<<<< HEAD
   "execution_count": 36,
=======
   "execution_count": 5,
>>>>>>> 6c0e2dd99277c98ec21b9b1b81a497d80a012732
   "metadata": {
    "collapsed": true
   },
   "outputs": [],
   "source": [
    "X = scored_df['review/text'].values\n",
    "y = list(map(lambda v: float(v), scored_df['review/points'].values))"
   ]
  },
  {
   "cell_type": "code",
   "execution_count": 34,
   "metadata": {},
   "outputs": [
    {
     "data": {
      "text/html": [
       "<div>\n",
       "<table border=\"1\" class=\"dataframe\">\n",
       "  <thead>\n",
       "    <tr style=\"text-align: right;\">\n",
       "      <th></th>\n",
       "      <th>chunk_id</th>\n",
       "      <th>review/points</th>\n",
       "      <th>review/text</th>\n",
       "      <th>review/time</th>\n",
       "      <th>review/userId</th>\n",
       "      <th>review/userName</th>\n",
       "      <th>wine/name</th>\n",
       "      <th>wine/variant</th>\n",
       "      <th>wine/wineId</th>\n",
       "      <th>wine/year</th>\n",
       "    </tr>\n",
       "  </thead>\n",
       "  <tbody>\n",
       "    <tr>\n",
       "      <th>341097</th>\n",
       "      <td>1098</td>\n",
       "      <td>90.0</td>\n",
       "      <td>NaN</td>\n",
       "      <td>1314403200</td>\n",
       "      <td>136709</td>\n",
       "      <td>mrieussec</td>\n",
       "      <td>2007 Wyndham Estate Cabernet Sauvignon Bin 444</td>\n",
       "      <td>Cabernet Sauvignon</td>\n",
       "      <td>794158</td>\n",
       "      <td>2007.0</td>\n",
       "    </tr>\n",
       "    <tr>\n",
       "      <th>556564</th>\n",
       "      <td>6565</td>\n",
       "      <td>87.0</td>\n",
       "      <td>NaN</td>\n",
       "      <td>1163635200</td>\n",
       "      <td>12385</td>\n",
       "      <td>fmarcoux</td>\n",
       "      <td>2003 Alcione Puglia IGT</td>\n",
       "      <td>Aglianico</td>\n",
       "      <td>165541</td>\n",
       "      <td>2003.0</td>\n",
       "    </tr>\n",
       "    <tr>\n",
       "      <th>556570</th>\n",
       "      <td>6571</td>\n",
       "      <td>89.0</td>\n",
       "      <td>NaN</td>\n",
       "      <td>1160352000</td>\n",
       "      <td>12385</td>\n",
       "      <td>fmarcoux</td>\n",
       "      <td>2000 Beckmen Vineyards Syrah Estate Santa Ynez...</td>\n",
       "      <td>Syrah</td>\n",
       "      <td>230842</td>\n",
       "      <td>2000.0</td>\n",
       "    </tr>\n",
       "    <tr>\n",
       "      <th>556571</th>\n",
       "      <td>6572</td>\n",
       "      <td>89.0</td>\n",
       "      <td>NaN</td>\n",
       "      <td>1162944000</td>\n",
       "      <td>12385</td>\n",
       "      <td>fmarcoux</td>\n",
       "      <td>2004 Domaine de Colette R&amp;#233;gni&amp;#233;</td>\n",
       "      <td>Gamay</td>\n",
       "      <td>208975</td>\n",
       "      <td>2004.0</td>\n",
       "    </tr>\n",
       "  </tbody>\n",
       "</table>\n",
       "</div>"
      ],
      "text/plain": [
       "        chunk_id  review/points review/text  review/time  review/userId  \\\n",
       "341097      1098           90.0         NaN   1314403200         136709   \n",
       "556564      6565           87.0         NaN   1163635200          12385   \n",
       "556570      6571           89.0         NaN   1160352000          12385   \n",
       "556571      6572           89.0         NaN   1162944000          12385   \n",
       "\n",
       "       review/userName                                          wine/name  \\\n",
       "341097       mrieussec     2007 Wyndham Estate Cabernet Sauvignon Bin 444   \n",
       "556564        fmarcoux                            2003 Alcione Puglia IGT   \n",
       "556570        fmarcoux  2000 Beckmen Vineyards Syrah Estate Santa Ynez...   \n",
       "556571        fmarcoux           2004 Domaine de Colette R&#233;gni&#233;   \n",
       "\n",
       "              wine/variant  wine/wineId  wine/year  \n",
       "341097  Cabernet Sauvignon       794158     2007.0  \n",
       "556564           Aglianico       165541     2003.0  \n",
       "556570               Syrah       230842     2000.0  \n",
       "556571               Gamay       208975     2004.0  "
      ]
     },
     "execution_count": 34,
     "metadata": {},
     "output_type": "execute_result"
    }
   ],
   "source": []
  },
  {
   "cell_type": "code",
<<<<<<< HEAD
   "execution_count": 37,
=======
   "execution_count": 6,
>>>>>>> 6c0e2dd99277c98ec21b9b1b81a497d80a012732
   "metadata": {
    "collapsed": true
   },
   "outputs": [],
   "source": [
    "tokenizer = Tokenizer()\n",
    "tokenizer.fit_on_texts(X)\n",
    "sequences = tokenizer.texts_to_sequences(X)\n",
    "word_index = tokenizer.word_index"
   ]
  },
  {
   "cell_type": "code",
   "execution_count": 7,
   "metadata": {},
   "outputs": [
    {
     "name": "stdout",
     "output_type": "stream",
     "text": [
      "There are 152285 words across all reviews\n"
     ]
    }
   ],
   "source": [
    "print ('There are {} words across all reviews'.format(len(word_index)))"
   ]
  },
  {
   "cell_type": "code",
   "execution_count": 8,
   "metadata": {},
   "outputs": [
    {
     "data": {
      "image/png": "iVBORw0KGgoAAAANSUhEUgAAAZsAAAEWCAYAAACwtjr+AAAABHNCSVQICAgIfAhkiAAAAAlwSFlz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\nrkJggg==\n",
      "text/plain": [
       "<matplotlib.figure.Figure at 0x7f74dda66160>"
      ]
     },
     "metadata": {},
     "output_type": "display_data"
    }
   ],
   "source": [
    "plt.hist(list(map(lambda seq: len(seq), sequences)), bins=20)\n",
    "plt.title(\"Review Length Histogram\")\n",
    "plt.xlabel(\"Length\")\n",
    "plt.ylabel(\"Frequency\")\n",
    "plt.show()"
   ]
  },
  {
   "cell_type": "code",
   "execution_count": 44,
   "metadata": {},
   "outputs": [
    {
     "data": {
      "text/plain": [
       "[1093, 922, 914, 892, 858]"
      ]
     },
     "execution_count": 44,
     "metadata": {},
     "output_type": "execute_result"
    }
   ],
   "source": []
  },
  {
   "cell_type": "code",
   "execution_count": 20,
   "metadata": {
    "collapsed": true
   },
   "outputs": [],
   "source": [
    "MAX_SEQUENCE_LENGTH = 200\n",
    "EMBEDDING_DIM = 50"
   ]
  },
  {
   "cell_type": "code",
   "execution_count": 21,
   "metadata": {
    "collapsed": true
   },
   "outputs": [],
   "source": [
    "data = pad_sequences(sequences, maxlen= MAX_SEQUENCE_LENGTH)"
   ]
  },
  {
   "cell_type": "code",
   "execution_count": 22,
   "metadata": {},
   "outputs": [
    {
     "name": "stdout",
     "output_type": "stream",
     "text": [
      "Shape of data tensor: (773497, 200)\n",
      "Shape of label tensor: (773497,)\n"
     ]
    }
   ],
   "source": [
    "target = np.asarray(y)\n",
    "print('Shape of data tensor:', data.shape)\n",
    "print('Shape of label tensor:', target.shape)\n"
   ]
  },
  {
   "cell_type": "code",
   "execution_count": 23,
   "metadata": {
    "collapsed": true
   },
   "outputs": [],
   "source": [
    "(x_train, x_test, y_train, y_test) = train_test_split(data, target, test_size = .25, random_state = 7)\n"
   ]
  },
  {
   "cell_type": "code",
   "execution_count": null,
   "metadata": {
    "collapsed": true
   },
   "outputs": [],
   "source": []
  },
  {
   "cell_type": "code",
   "execution_count": 35,
   "metadata": {
    "collapsed": true
   },
   "outputs": [],
   "source": [
    "def load_glove_embeddings():\n",
    "    GLOVE_FILE = '/home/paperspace/Data/Glove/glove.6B.50d.txt'\n",
    "    embeddings = {}\n",
    "    \n",
    "    with open(GLOVE_FILE) as f:\n",
    "        for line in f:\n",
    "            tokens = line.split()\n",
    "            word = tokens[0]\n",
    "            \n",
    "            embeddings[word] = np.asarray(tokens[1:], dtype='float32')\n",
    "            \n",
    "    return embeddings\n",
    "\n",
    "def create_default_embedding():\n",
    "    \n",
    "    embedding_matrix = np.zeros((len(word_index) + 1, EMBEDDING_DIM))\n",
    "    \n",
    "    return Embedding(len(word_index) + 1,\n",
    "                            EMBEDDING_DIM,\n",
    "                            weights=[embedding_matrix],\n",
    "                            embeddings_initializer = 'glorot_uniform', # not using pre-trained embeddings\n",
    "                            input_length=MAX_SEQUENCE_LENGTH,\n",
    "                            trainable=True)\n",
    "\n",
    "    \n",
    "def create_glove_embedding_layer(train_embeddings = False):\n",
    "    \n",
    "    glove = load_glove_embeddings()    \n",
    "       \n",
    "    for word, i in word_index.items():\n",
    "        embedding_vector = glove.get(word)\n",
    "        \n",
    "        if embedding_vector is not None:\n",
    "            embedding_matrix[i] = embedding_vector              \n",
    "\n",
    "    return Embedding(len(word_index) + 1,\n",
    "                            EMBEDDING_DIM,\n",
    "                            weights=[embedding_matrix],                            \n",
    "                            input_length=MAX_SEQUENCE_LENGTH,\n",
    "                            trainable=train_embeddings)\n",
    "        \n",
    "\n",
    "    "
   ]
  },
  {
   "cell_type": "code",
   "execution_count": 36,
   "metadata": {},
   "outputs": [],
   "source": [
    "embedding_layer = create_glove_embedding_layer()"
   ]
  },
  {
   "cell_type": "code",
   "execution_count": 37,
   "metadata": {},
   "outputs": [
    {
     "name": "stdout",
     "output_type": "stream",
     "text": [
      "Train on 464097 samples, validate on 116025 samples\n",
      "Epoch 1/10\n",
      "463872/464097 [============================>.] - ETA: 0s - loss: 184.1490Epoch 00000: val_loss improved from inf to 14.61743, saving model to weights.best.glove-embeddings-no-train.hdf5\n",
      "464097/464097 [==============================] - 129s - loss: 184.0677 - val_loss: 14.6174\n",
      "Epoch 2/10\n",
      "463872/464097 [============================>.] - ETA: 0s - loss: 13.7626Epoch 00001: val_loss improved from 14.61743 to 12.98816, saving model to weights.best.glove-embeddings-no-train.hdf5\n",
      "464097/464097 [==============================] - 126s - loss: 13.7635 - val_loss: 12.9882\n",
      "Epoch 3/10\n",
      "463872/464097 [============================>.] - ETA: 0s - loss: 12.5591Epoch 00002: val_loss improved from 12.98816 to 12.00850, saving model to weights.best.glove-embeddings-no-train.hdf5\n",
      "464097/464097 [==============================] - 131s - loss: 12.5578 - val_loss: 12.0085\n",
      "Epoch 4/10\n",
      "463872/464097 [============================>.] - ETA: 0s - loss: 12.0259Epoch 00003: val_loss improved from 12.00850 to 11.70910, saving model to weights.best.glove-embeddings-no-train.hdf5\n",
      "464097/464097 [==============================] - 135s - loss: 12.0248 - val_loss: 11.7091\n",
      "Epoch 5/10\n",
      "463872/464097 [============================>.] - ETA: 0s - loss: 11.5948Epoch 00004: val_loss improved from 11.70910 to 11.30918, saving model to weights.best.glove-embeddings-no-train.hdf5\n",
      "464097/464097 [==============================] - 132s - loss: 11.5933 - val_loss: 11.3092\n",
      "Epoch 6/10\n",
      "463872/464097 [============================>.] - ETA: 0s - loss: 11.3124Epoch 00005: val_loss did not improve\n",
      "464097/464097 [==============================] - 131s - loss: 11.3140 - val_loss: 11.6810\n",
      "Epoch 7/10\n",
      "463872/464097 [============================>.] - ETA: 0s - loss: 11.1053Epoch 00006: val_loss did not improve\n",
      "464097/464097 [==============================] - 132s - loss: 11.1074 - val_loss: 11.4354\n",
      "Epoch 8/10\n",
      "463872/464097 [============================>.] - ETA: 0s - loss: 10.9928Epoch 00007: val_loss improved from 11.30918 to 10.94598, saving model to weights.best.glove-embeddings-no-train.hdf5\n",
      "464097/464097 [==============================] - 133s - loss: 10.9929 - val_loss: 10.9460\n",
      "Epoch 9/10\n",
      "463872/464097 [============================>.] - ETA: 0s - loss: 10.8521Epoch 00008: val_loss did not improve\n",
      "464097/464097 [==============================] - 132s - loss: 10.8512 - val_loss: 11.1081\n",
      "Epoch 10/10\n",
      "463872/464097 [============================>.] - ETA: 0s - loss: 10.7451Epoch 00009: val_loss did not improve\n",
      "464097/464097 [==============================] - 132s - loss: 10.7452 - val_loss: 11.5138\n"
     ]
    }
   ],
   "source": [
    "\n",
    "\n",
    "sequence_input = Input(shape=(MAX_SEQUENCE_LENGTH,), dtype='int32')\n",
    "embedded_sequences = embedding_layer(sequence_input)\n",
    "x = Conv1D(32, 3, activation='relu')(embedded_sequences)\n",
    "x = MaxPooling1D(3)(x)\n",
    "#x = Dropout(.5)(x)\n",
    "x = Conv1D(32, 3, activation='relu')(x)\n",
    "x = MaxPooling1D(3)(x)\n",
    "#x = Dropout(.5)(x)\n",
    "x = Conv1D(32, 3, activation='relu')(x)\n",
    "x = GlobalMaxPooling1D()(x)  # global max pooling\n",
    "#x = Dropout(.5)(x)\n",
    "\n",
    "x = Dense(128, activation='relu')(x)\n",
    "preds = Dense(1)(x) # no activation so that it outputs the target value directly\n",
    "\n",
    "model = Model(sequence_input, preds)\n",
    "\n",
    "model.compile(loss='mse', optimizer='adam')\n",
    "\n",
    "#model.summary()\n",
    "\n",
    "checkpoint_file = 'weights.best.glove-embeddings-no-train.hdf5'\n",
    "checkpoint = ModelCheckpoint(checkpoint_file, monitor='val_loss', verbose=1, save_best_only=True, mode='min')\n",
    "\n",
    "# happy learning!\n",
    "history = model.fit(x_train, y_train, validation_split = .2, epochs=25, batch_size=256, callbacks = [checkpoint])\n",
    "\n",
    "\n"
   ]
  },
  {
   "cell_type": "code",
   "execution_count": null,
   "metadata": {
    "collapsed": true
   },
   "outputs": [],
   "source": [
    "model = load_weights("
   ]
  },
  {
   "cell_type": "code",
   "execution_count": 26,
   "metadata": {
    "collapsed": true
   },
   "outputs": [],
   "source": [
    "\n",
    "def rmse(y_true, y_pred):\n",
    "    from keras import backend\n",
    "    \n",
    "    return backend.sqrt(backend.mean(backend.square(y_true - y_pred), axis=1))"
   ]
  },
  {
   "cell_type": "code",
   "execution_count": 38,
   "metadata": {
    "collapsed": true
   },
   "outputs": [],
   "source": [
    "y_pred = model.predict(x_test)"
   ]
  },
  {
   "cell_type": "code",
   "execution_count": 39,
   "metadata": {},
   "outputs": [
    {
     "data": {
      "text/plain": [
       "(array([  4.00000000e+00,   2.00000000e+01,   1.22000000e+02,\n",
       "          5.86000000e+02,   5.68500000e+03,   8.45010000e+04,\n",
       "          9.73980000e+04,   5.02700000e+03,   3.00000000e+01,\n",
       "          2.00000000e+00]),\n",
       " array([  64.8533783 ,   69.0154335 ,   73.17748871,   77.33954391,\n",
       "          81.50159912,   85.66365433,   89.82570953,   93.98776474,\n",
       "          98.14981995,  102.31187515,  106.47393036]),\n",
       " <a list of 10 Patch objects>)"
      ]
     },
     "execution_count": 39,
     "metadata": {},
     "output_type": "execute_result"
    },
    {
     "data": {
      "image/png": "iVBORw0KGgoAAAANSUhEUgAAAY0AAAD8CAYAAACLrvgBAAAABHNCSVQICAgIfAhkiAAAAAlwSFlz\nAAALEgAACxIB0t1+/AAAESNJREFUeJzt3X+s3XV9x/Hna3QouCi/CsEWV4yNE0lUuMFOE2PEQFFj\n2SJZzTYawtbE4PyxJVvdP838kWBixkamJEQ6ymKojLnRzGrTVJ1bIshFHFIZ6R0oXGFwTQHdiGLd\ne3+cT+fJ7Wnvh3sq58J9PpKT8/2+v5/v9/u535z0xfl8P+dLqgpJknr8yqQ7IEl6/jA0JEndDA1J\nUjdDQ5LUzdCQJHUzNCRJ3QwNSVI3Q0OS1M3QkCR1WzHpDhxrp512Wq1Zs2bS3ZCk55W77rrrh1W1\ncqF2L7jQWLNmDdPT05PuhiQ9ryT5fk+7BYenkmxL8niSe4dqpyTZk2R/ez+51ZPk2iQzSe5Jct7Q\nPpta+/1JNg3Vz0/ynbbPtUlytHNIkian557GjcD6ebUtwN6qWgvsbesAlwBr22szcB0MAgDYCrwR\nuADYOhQC17W2h/Zbv8A5JEkTsmBoVNXXgQPzyhuA7W15O3DpUP2mGrgdOCnJmcDFwJ6qOlBVTwB7\ngPVt20ur6hs1eNzuTfOONeockqQJWezsqTOq6lGA9n56q68CHh5qN9tqR6vPjqgf7RyHSbI5yXSS\n6bm5uUX+SZKkhRzrKbcZUatF1J+Vqrq+qqaqamrlygVv/kuSFmmxofFYG1qivT/e6rPAWUPtVgOP\nLFBfPaJ+tHNIkiZksaGxEzg0A2oTcNtQ/fI2i2od8FQbWtoNXJTk5HYD/CJgd9v24yTr2qypy+cd\na9Q5JEkTsuDvNJLcDLwVOC3JLINZUFcDtyS5EngIuKw13wW8A5gBngauAKiqA0k+BtzZ2n20qg7d\nXH8fgxlaJwBfai+Ocg5J0oTkhfb/CJ+amip/3CdJz06Su6pqaqF2L7hfhEs63JotX5zIeb939Tsn\ncl798vjAQklSN0NDktTN0JAkdTM0JEndDA1JUjdDQ5LUzdCQJHUzNCRJ3QwNSVI3Q0OS1M3QkCR1\nMzQkSd0MDUlSN0NDktTN0JAkdTM0JEndDA1JUjdDQ5LUzdCQJHUzNCRJ3QwNSVI3Q0OS1M3QkCR1\nMzQkSd0MDUlSN0NDktRtxaQ7IC0Xa7Z8cdJdkMbmNw1JUjdDQ5LUzdCQJHUzNCRJ3QwNSVK3sUIj\nyYeT7Etyb5Kbk7w4ydlJ7kiyP8nnkxzf2r6orc+07WuGjvORVr8/ycVD9fWtNpNkyzh9lSSNb9Gh\nkWQV8AFgqqrOBY4DNgKfBK6pqrXAE8CVbZcrgSeq6lXANa0dSc5p+70WWA98JslxSY4DPg1cApwD\nvLe1lSRNyLjDUyuAE5KsAE4EHgXeBtzatm8HLm3LG9o6bfuFSdLqO6rqp1X1IDADXNBeM1X1QFU9\nA+xobSVJE7Lo0KiqHwCfAh5iEBZPAXcBT1bVwdZsFljVllcBD7d9D7b2pw7X5+1zpLokaULGGZ46\nmcF/+Z8NvBx4CYOhpPnq0C5H2PZs66P6sjnJdJLpubm5hbouSVqkcYan3g48WFVzVfUz4AvAm4CT\n2nAVwGrgkbY8C5wF0La/DDgwXJ+3z5Hqh6mq66tqqqqmVq5cOcafJEk6mnFC4yFgXZIT272JC4Hv\nAl8F3tPabAJua8s72zpt+1eqqlp9Y5tddTawFvgmcCewts3GOp7BzfKdY/RXkjSmRT+wsKruSHIr\n8C3gIHA3cD3wRWBHko+32g1tlxuAv0syw+AbxsZ2nH1JbmEQOAeBq6rq5wBJ3g/sZjAza1tV7Vts\nfyVJ4xvrKbdVtRXYOq/8AIOZT/Pb/gS47AjH+QTwiRH1XcCucfooSTp2/EW4JKmboSFJ6mZoSJK6\nGRqSpG6GhiSpm6EhSepmaEiSuhkakqRuhoYkqZuhIUnqZmhIkroZGpKkboaGJKmboSFJ6mZoSJK6\nGRqSpG6GhiSpm6EhSepmaEiSuhkakqRuhoYkqZuhIUnqZmhIkroZGpKkboaGJKmboSFJ6mZoSJK6\nGRqSpG6GhiSpm6EhSepmaEiSuhkakqRuhoYkqZuhIUnqNlZoJDkpya1J/iPJfUl+M8kpSfYk2d/e\nT25tk+TaJDNJ7kly3tBxNrX2+5NsGqqfn+Q7bZ9rk2Sc/kqSxjPuN42/Br5cVb8BvA64D9gC7K2q\ntcDetg5wCbC2vTYD1wEkOQXYCrwRuADYeihoWpvNQ/utH7O/kqQxLDo0krwUeAtwA0BVPVNVTwIb\ngO2t2Xbg0ra8AbipBm4HTkpyJnAxsKeqDlTVE8AeYH3b9tKq+kZVFXDT0LEkSRMwzjeNVwJzwN8m\nuTvJZ5O8BDijqh4FaO+nt/argIeH9p9ttaPVZ0fUD5Nkc5LpJNNzc3Nj/EmSpKMZJzRWAOcB11XV\nG4D/4RdDUaOMuh9Ri6gfXqy6vqqmqmpq5cqVR++1JGnRxgmNWWC2qu5o67cyCJHH2tAS7f3xofZn\nDe2/GnhkgfrqEXVJ0oQsOjSq6r+Ah5O8upUuBL4L7AQOzYDaBNzWlncCl7dZVOuAp9rw1W7goiQn\ntxvgFwG727YfJ1nXZk1dPnQsSdIErBhz/z8CPpfkeOAB4AoGQXRLkiuBh4DLWttdwDuAGeDp1paq\nOpDkY8Cdrd1Hq+pAW34fcCNwAvCl9pIkTchYoVFV3wamRmy6cETbAq46wnG2AdtG1KeBc8fpoyTp\n2PEX4ZKkboaGJKmboSFJ6mZoSJK6GRqSpG6GhiSpm6EhSepmaEiSuhkakqRuhoYkqZuhIUnqZmhI\nkroZGpKkboaGJKmboSFJ6mZoSJK6GRqSpG6GhiSpm6EhSepmaEiSuhkakqRuhoYkqZuhIUnqZmhI\nkroZGpKkboaGJKmboSFJ6mZoSJK6GRqSpG6GhiSpm6EhSepmaEiSuhkakqRuY4dGkuOS3J3kn9v6\n2UnuSLI/yeeTHN/qL2rrM237mqFjfKTV709y8VB9favNJNkybl8lSeM5Ft80PgjcN7T+SeCaqloL\nPAFc2epXAk9U1auAa1o7kpwDbAReC6wHPtOC6Djg08AlwDnAe1tbSdKEjBUaSVYD7wQ+29YDvA24\ntTXZDlzalje0ddr2C1v7DcCOqvppVT0IzAAXtNdMVT1QVc8AO1pbSdKEjPtN46+APwX+t62fCjxZ\nVQfb+iywqi2vAh4GaNufau3/vz5vnyPVJUkTsujQSPIu4PGqumu4PKJpLbDt2dZH9WVzkukk03Nz\nc0fptSRpHON803gz8O4k32MwdPQ2Bt88TkqyorVZDTzSlmeBswDa9pcBB4br8/Y5Uv0wVXV9VU1V\n1dTKlSvH+JMkSUez6NCoqo9U1eqqWsPgRvZXqup3ga8C72nNNgG3teWdbZ22/StVVa2+sc2uOhtY\nC3wTuBNY22ZjHd/OsXOx/ZUkjW/Fwk2etT8DdiT5OHA3cEOr3wD8XZIZBt8wNgJU1b4ktwDfBQ4C\nV1XVzwGSvB/YDRwHbKuqfb+E/kqSOh2T0KiqrwFfa8sPMJj5NL/NT4DLjrD/J4BPjKjvAnYdiz5K\nksbnL8IlSd0MDUlSN0NDktTN0JAkdTM0JEndDA1JUjdDQ5LUzdCQJHUzNCRJ3QwNSVI3Q0OS1M3Q\nkCR1MzQkSd0MDUlSN0NDktTN0JAkdTM0JEndDA1JUjdDQ5LUzdCQJHUzNCRJ3QwNSVI3Q0OS1M3Q\nkCR1MzQkSd0MDUlSN0NDktTN0JAkdTM0JEndDA1JUjdDQ5LUzdCQJHUzNCRJ3QwNSVK3RYdGkrOS\nfDXJfUn2Jflgq5+SZE+S/e395FZPkmuTzCS5J8l5Q8fa1NrvT7JpqH5+ku+0fa5NknH+WEnSeMb5\npnEQ+JOqeg2wDrgqyTnAFmBvVa0F9rZ1gEuAte21GbgOBiEDbAXeCFwAbD0UNK3N5qH91o/RX0nS\nmBYdGlX1aFV9qy3/GLgPWAVsALa3ZtuBS9vyBuCmGrgdOCnJmcDFwJ6qOlBVTwB7gPVt20ur6htV\nVcBNQ8eSJE3AMbmnkWQN8AbgDuCMqnoUBsECnN6arQIeHtptttWOVp8dUR91/s1JppNMz83Njfvn\nSJKOYOzQSPJrwD8AH6qqHx2t6YhaLaJ+eLHq+qqaqqqplStXLtRlSdIijRUaSX6VQWB8rqq+0MqP\ntaEl2vvjrT4LnDW0+2rgkQXqq0fUJUkTMs7sqQA3APdV1V8ObdoJHJoBtQm4bah+eZtFtQ54qg1f\n7QYuSnJyuwF+EbC7bftxknXtXJcPHUuSNAErxtj3zcDvA99J8u1W+3PgauCWJFcCDwGXtW27gHcA\nM8DTwBUAVXUgyceAO1u7j1bVgbb8PuBG4ATgS+0lSZqQRYdGVf0bo+87AFw4on0BVx3hWNuAbSPq\n08C5i+2jJOnY8hfhkqRuhoYkqZuhIUnqZmhIkroZGpKkboaGJKmboSFJ6mZoSJK6GRqSpG6GhiSp\nm6EhSepmaEiSuhkakqRuhoYkqZuhIUnqZmhIkroZGpKkboaGJKmboSFJ6mZoSJK6GRqSpG6GhiSp\nm6EhSepmaEiSuhkakqRuKybdAem5tmbLFyfdBel5y9CQ9EszyYD+3tXvnNi5X8gcnpIkdTM0JEnd\nDA1JUjdDQ5LUzdCQJHUzNCRJ3ZZ8aCRZn+T+JDNJtky6P5K0nC3p0EhyHPBp4BLgHOC9Sc6ZbK8k\nafla0qEBXADMVNUDVfUMsAPYMOE+SdKytdR/Eb4KeHhofRZ444T6omPIR3lIz09LPTQyolaHNUo2\nA5vb6n8nuf+X2qvn3mnADyfdiSXOa7SwZXWN8slF7basrtE8v97TaKmHxixw1tD6auCR+Y2q6nrg\n+ueqU8+1JNNVNTXpfixlXqOFeY0W5jVa2FK/p3EnsDbJ2UmOBzYCOyfcJ0latpb0N42qOpjk/cBu\n4DhgW1Xtm3C3JGnZWtKhAVBVu4Bdk+7HhL1gh96OIa/RwrxGC/MaLSBVh91XliRppKV+T0OStIQY\nGktIklcn+fbQ60dJPpTklCR7kuxv7ydPuq+TlOTDSfYluTfJzUle3CZL3NGu0efbxIllK8kH2/XZ\nl+RDrbbsP0dJtiV5PMm9Q7WR1yUD17ZHGN2T5LzJ9XzpMDSWkKq6v6peX1WvB84Hngb+EdgC7K2q\ntcDetr4sJVkFfACYqqpzGUyQ2Ah8ErimXaMngCsn18vJSnIu8IcMnqjwOuBdSdbi5wjgRmD9vNqR\nrsslwNr22gxc9xz1cUkzNJauC4H/rKrvM3h0yvZW3w5cOrFeLQ0rgBOSrABOBB4F3gbc2rYv92v0\nGuD2qnq6qg4C/wL8Fn6OqKqvAwfmlY90XTYAN9XA7cBJSc58bnq6dBkaS9dG4Oa2fEZVPQrQ3k+f\nWK8mrKp+AHwKeIhBWDwF3AU82f6BhMGPQldNpodLwr3AW5KcmuRE4B0MfiTr52i0I12XUY8xWs6f\nK8DQWJLaePy7gb+fdF+WmjbevAE4G3g58BIGwwjzLdtpgVV1H4Phuj3Al4F/Bw4edSeN0vUYo+XG\n0FiaLgG+VVWPtfXHDn0tbu+PT6xnk/d24MGqmquqnwFfAN7EYOjg0O+ORj5uZjmpqhuq6ryqeguD\n4Zj9+Dk6kiNdl67HGC03hsbS9F5+MTQFg0enbGrLm4DbnvMeLR0PAeuSnJgkDO79fBf4KvCe1ma5\nXyOSnN7eXwH8NoPPk5+j0Y50XXYCl7dZVOuApw4NYy1n/rhviWlj0A8Dr6yqp1rtVOAW4BUM/tG8\nrKrm38xbNpL8BfA7DIZc7gb+gMFY8w7glFb7var66cQ6OWFJ/hU4FfgZ8MdVtdfPESS5GXgrg6fZ\nPgZsBf6JEdel/UfJ3zCYbfU0cEVVTU+i30uJoSFJ6ubwlCSpm6EhSepmaEiSuhkakqRuhoYkqZuh\nIUnqZmhIkroZGpKkbv8HoDff6kSOuMoAAAAASUVORK5CYII=\n",
      "text/plain": [
       "<matplotlib.figure.Figure at 0x7f748c20aba8>"
      ]
     },
     "metadata": {},
     "output_type": "display_data"
    }
   ],
   "source": [
    "# r = rmse(y_test, y_pred)\n",
    "plt.hist(y_pred)"
   ]
  },
  {
   "cell_type": "code",
   "execution_count": 40,
   "metadata": {
    "scrolled": true
   },
   "outputs": [
    {
     "name": "stdout",
     "output_type": "stream",
     "text": [
      "Train on 464097 samples, validate on 116025 samples\n",
      "Epoch 1/25\n",
      "463872/464097 [============================>.] - ETA: 0s - loss: 10.6559Epoch 00000: val_loss improved from inf to 10.91525, saving model to weights.best.glove-embeddings-no-train.hdf5\n",
      "464097/464097 [==============================] - 130s - loss: 10.6542 - val_loss: 10.9152\n",
      "Epoch 2/25\n",
      "463872/464097 [============================>.] - ETA: 0s - loss: 10.5905Epoch 00001: val_loss did not improve\n",
      "464097/464097 [==============================] - 129s - loss: 10.5914 - val_loss: 11.2958\n",
      "Epoch 3/25\n",
      "463872/464097 [============================>.] - ETA: 0s - loss: 10.4926Epoch 00002: val_loss did not improve\n",
      "464097/464097 [==============================] - 129s - loss: 10.4934 - val_loss: 11.2905\n",
      "Epoch 4/25\n",
      "463872/464097 [============================>.] - ETA: 0s - loss: 10.4333Epoch 00003: val_loss improved from 10.91525 to 10.61726, saving model to weights.best.glove-embeddings-no-train.hdf5\n",
      "464097/464097 [==============================] - 128s - loss: 10.4324 - val_loss: 10.6173\n",
      "Epoch 5/25\n",
      "463872/464097 [============================>.] - ETA: 0s - loss: 10.3685Epoch 00004: val_loss did not improve\n",
      "464097/464097 [==============================] - 128s - loss: 10.3683 - val_loss: 10.8292\n",
      "Epoch 6/25\n",
      "463872/464097 [============================>.] - ETA: 0s - loss: 10.3012Epoch 00005: val_loss improved from 10.61726 to 10.57111, saving model to weights.best.glove-embeddings-no-train.hdf5\n",
      "464097/464097 [==============================] - 128s - loss: 10.3000 - val_loss: 10.5711\n",
      "Epoch 7/25\n",
      "463872/464097 [============================>.] - ETA: 0s - loss: 10.2439Epoch 00006: val_loss did not improve\n",
      "464097/464097 [==============================] - 131s - loss: 10.2426 - val_loss: 10.7015\n",
      "Epoch 8/25\n",
      "463872/464097 [============================>.] - ETA: 0s - loss: 10.2248Epoch 00007: val_loss improved from 10.57111 to 10.52500, saving model to weights.best.glove-embeddings-no-train.hdf5\n",
      "464097/464097 [==============================] - 137s - loss: 10.2270 - val_loss: 10.5250\n",
      "Epoch 9/25\n",
      "463872/464097 [============================>.] - ETA: 0s - loss: 10.1300 ETA: 0sEpoch 00008: val_loss did not improve\n",
      "464097/464097 [==============================] - 135s - loss: 10.1298 - val_loss: 10.6417\n",
      "Epoch 10/25\n",
      "463872/464097 [============================>.] - ETA: 0s - loss: 10.1149Epoch 00009: val_loss improved from 10.52500 to 10.51334, saving model to weights.best.glove-embeddings-no-train.hdf5\n",
      "464097/464097 [==============================] - 136s - loss: 10.1148 - val_loss: 10.5133\n",
      "Epoch 11/25\n",
      "463872/464097 [============================>.] - ETA: 0s - loss: 10.0517Epoch 00010: val_loss did not improve\n",
      "464097/464097 [==============================] - 134s - loss: 10.0538 - val_loss: 10.7793\n",
      "Epoch 12/25\n",
      "463872/464097 [============================>.] - ETA: 0s - loss: 10.0489Epoch 00011: val_loss did not improve\n",
      "464097/464097 [==============================] - 133s - loss: 10.0507 - val_loss: 10.5943\n",
      "Epoch 13/25\n",
      "463872/464097 [============================>.] - ETA: 0s - loss: 9.9741Epoch 00012: val_loss improved from 10.51334 to 10.46245, saving model to weights.best.glove-embeddings-no-train.hdf5\n",
      "464097/464097 [==============================] - 134s - loss: 9.9734 - val_loss: 10.4625\n",
      "Epoch 14/25\n",
      "463872/464097 [============================>.] - ETA: 0s - loss: 9.9769Epoch 00013: val_loss did not improve\n",
      "464097/464097 [==============================] - 134s - loss: 9.9782 - val_loss: 10.5567\n",
      "Epoch 15/25\n",
      "463872/464097 [============================>.] - ETA: 0s - loss: 9.9026Epoch 00014: val_loss did not improve\n",
      "464097/464097 [==============================] - 133s - loss: 9.9014 - val_loss: 10.6426\n",
      "Epoch 16/25\n",
      "463872/464097 [============================>.] - ETA: 0s - loss: 9.8885Epoch 00015: val_loss improved from 10.46245 to 10.44176, saving model to weights.best.glove-embeddings-no-train.hdf5\n",
      "464097/464097 [==============================] - 133s - loss: 9.8883 - val_loss: 10.4418\n",
      "Epoch 17/25\n",
      "463872/464097 [============================>.] - ETA: 0s - loss: 9.8484Epoch 00016: val_loss did not improve\n",
      "464097/464097 [==============================] - 134s - loss: 9.8480 - val_loss: 10.5550\n",
      "Epoch 18/25\n",
      "463872/464097 [============================>.] - ETA: 0s - loss: 9.8404Epoch 00017: val_loss did not improve\n",
      "464097/464097 [==============================] - 134s - loss: 9.8398 - val_loss: 10.8031\n",
      "Epoch 19/25\n",
      "463872/464097 [============================>.] - ETA: 0s - loss: 9.8068Epoch 00018: val_loss did not improve\n",
      "464097/464097 [==============================] - 134s - loss: 9.8073 - val_loss: 10.6533\n",
      "Epoch 20/25\n",
      "463872/464097 [============================>.] - ETA: 0s - loss: 9.7661Epoch 00019: val_loss did not improve\n",
      "464097/464097 [==============================] - 134s - loss: 9.7660 - val_loss: 10.5252\n",
      "Epoch 21/25\n",
      "463872/464097 [============================>.] - ETA: 0s - loss: 9.7701Epoch 00020: val_loss did not improve\n",
      "464097/464097 [==============================] - 134s - loss: 9.7687 - val_loss: 10.5027\n",
      "Epoch 22/25\n",
      "463872/464097 [============================>.] - ETA: 0s - loss: 9.7275Epoch 00021: val_loss improved from 10.44176 to 10.41148, saving model to weights.best.glove-embeddings-no-train.hdf5\n",
      "464097/464097 [==============================] - 135s - loss: 9.7268 - val_loss: 10.4115\n",
      "Epoch 23/25\n",
      "463872/464097 [============================>.] - ETA: 0s - loss: 9.6885Epoch 00022: val_loss did not improve\n",
      "464097/464097 [==============================] - 135s - loss: 9.6868 - val_loss: 10.4354\n",
      "Epoch 24/25\n",
      "463872/464097 [============================>.] - ETA: 0s - loss: 9.7023Epoch 00023: val_loss did not improve\n",
      "464097/464097 [==============================] - 135s - loss: 9.7013 - val_loss: 10.5160\n",
      "Epoch 25/25\n",
      "463872/464097 [============================>.] - ETA: 0s - loss: 9.6693Epoch 00024: val_loss did not improve\n",
      "464097/464097 [==============================] - 135s - loss: 9.6691 - val_loss: 10.7051\n"
     ]
    }
   ],
   "source": [
    "checkpoint_file = 'weights.best.glove-embeddings-no-train.hdf5'\n",
    "checkpoint = ModelCheckpoint(checkpoint_file, monitor='val_loss', verbose=1, save_best_only=True, mode='min')\n",
    "\n",
    "# happy learning!\n",
    "history = model.fit(x_train, y_train, validation_split = .2, epochs=25, batch_size=256, callbacks = [checkpoint])\n"
   ]
  },
  {
   "cell_type": "code",
   "execution_count": 41,
   "metadata": {
    "collapsed": true
   },
   "outputs": [],
   "source": [
    "model.save('full-glove-embed-model.hdf5')"
   ]
  },
  {
   "cell_type": "code",
   "execution_count": null,
   "metadata": {
    "collapsed": true
   },
   "outputs": [],
   "source": []
  }
 ],
 "metadata": {
  "kernelspec": {
   "display_name": "Python 3",
   "language": "python",
   "name": "python3"
  },
  "language_info": {
   "codemirror_mode": {
    "name": "ipython",
    "version": 3
   },
   "file_extension": ".py",
   "mimetype": "text/x-python",
   "name": "python",
   "nbconvert_exporter": "python",
   "pygments_lexer": "ipython3",
   "version": "3.6.2"
  }
 },
 "nbformat": 4,
 "nbformat_minor": 2
}
