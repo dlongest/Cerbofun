{
 "cells": [
  {
   "cell_type": "markdown",
   "metadata": {},
   "source": [
    "# Cellar Tracker MLP Classifier"
   ]
  },
  {
   "cell_type": "code",
   "execution_count": null,
   "metadata": {
    "collapsed": false
   },
   "outputs": [],
   "source": [
    "import pandas as pd\n",
    "import numpy as np\n",
    "from sklearn.preprocessing import LabelEncoder"
   ]
  },
  {
   "cell_type": "markdown",
   "metadata": {},
   "source": [
    "## Data Prep\n",
    "Read the data directly from data.world into a Pandas data frame"
   ]
  },
  {
   "cell_type": "code",
   "execution_count": null,
   "metadata": {
    "collapsed": true
   },
   "outputs": [],
   "source": [
    "df = pd.read_csv('https://query.data.world/s/r8VVStpwMgTZlScD_VyeGd6JUEX4fm')"
   ]
  },
  {
   "cell_type": "markdown",
   "metadata": {},
   "source": [
    "### Analysis\n",
    "\n",
    "If we look at the columns available to us, there's a few to try out for a classifier:\n",
    "- review/text is the text of the review written by the user\n",
    "- review/userId or review/userName identify the user in question\n",
    "- wine/name references the year, vintner, and name of the wine (so it includes wine/year)\n",
    "- wine/variant is the style of wine\n",
    "- wine/year is the year of vintage\n",
    "\n",
    "review/points is the target column for regression (which could be repurposed into classification if so desired)"
   ]
  },
  {
   "cell_type": "code",
   "execution_count": null,
   "metadata": {
    "collapsed": false
   },
   "outputs": [],
   "source": [
    "df.head() # view some of the data frame"
   ]
  },
  {
   "cell_type": "code",
   "execution_count": null,
   "metadata": {
    "collapsed": true
   },
   "outputs": [],
   "source": [
    "# We have to deal with nulls. For simplicty, we'll remove them but any normal null imputation options are on the table.\n",
    "\n",
    "clean_df = df[df['review/points'].notnull()]\n",
    "clean_df = clean_df[clean_df['wine/year'].notnull()]\n",
    "\n",
    "# Since we're headed towards a neural network, let's go ahead and use LabelEncoder to convert each wine variant into \n",
    "# a unique ID.  fit_transform will go ahead and both determine and ID encoding plus return the transformed variants\n",
    "# for us to save back into the data frame. \n",
    "encoder = LabelEncoder()\n",
    "clean_df['wine/variantId'] = encoder.fit_transform(clean_df['wine/variant'].values)"
   ]
  },
  {
   "cell_type": "code",
   "execution_count": null,
   "metadata": {
    "collapsed": false
   },
   "outputs": [],
   "source": []
  },
  {
   "cell_type": "code",
   "execution_count": null,
   "metadata": {
    "collapsed": false
   },
   "outputs": [],
   "source": [
    "clean_df[clean_df['wine']"
   ]
  },
  {
   "cell_type": "code",
   "execution_count": null,
   "metadata": {
    "collapsed": true
   },
   "outputs": [],
   "source": []
  }
 ],
 "metadata": {
  "anaconda-cloud": {},
  "kernelspec": {
   "display_name": "Python [Root]",
   "language": "python",
   "name": "Python [Root]"
  },
  "language_info": {
   "codemirror_mode": {
    "name": "ipython",
    "version": 2
   },
   "file_extension": ".py",
   "mimetype": "text/x-python",
   "name": "python",
   "nbconvert_exporter": "python",
   "pygments_lexer": "ipython2",
   "version": "2.7.12"
  }
 },
 "nbformat": 4,
 "nbformat_minor": 0
}
